{
 "cells": [
  {
   "cell_type": "code",
   "execution_count": null,
   "id": "7db101c1-458a-4526-8c1d-5bcfa37678e4",
   "metadata": {},
   "outputs": [],
   "source": [
    "#import librarires\n",
    "!pip install kaggle"
   ]
  },
  {
   "cell_type": "code",
   "execution_count": null,
   "id": "da57faef-069d-4382-a066-0a9a3ec77ccd",
   "metadata": {},
   "outputs": [],
   "source": [
    "import kaggle"
   ]
  },
  {
   "cell_type": "code",
   "execution_count": null,
   "id": "d9ecfb09-a0b2-4685-9be3-0c3311c993e4",
   "metadata": {},
   "outputs": [],
   "source": [
    "#Download data from kaggle to our local system\n",
    "\n",
    "from kaggle.api.kaggle_api_extended import KaggleApi\n",
    "\n",
    "# Authenticate\n",
    "api = KaggleApi()\n",
    "api.authenticate()\n",
    "\n",
    "# Download your dataset\n",
    "api.dataset_download_file('mansigambhir4/sales-order', file_name='orders.csv', path='.')\n",
    "\n",
    "print(\"Download complete\")"
   ]
  },
  {
   "cell_type": "code",
   "execution_count": null,
   "id": "4b671751-e986-454e-86f5-bdcdbaf725df",
   "metadata": {},
   "outputs": [],
   "source": [
    "!pip install pandas\n",
    "import pandas as pd"
   ]
  },
  {
   "cell_type": "code",
   "execution_count": null,
   "id": "42fb2dd1-71ab-4d44-a7e1-eb69ac32d9b9",
   "metadata": {},
   "outputs": [],
   "source": [
    "#read the file and handle the null values\n",
    "df=pd.read_csv('orders.csv',na_values=['Not Available', 'unknown'])\n",
    "df.head()"
   ]
  },
  {
   "cell_type": "code",
   "execution_count": null,
   "id": "1bad21fd-d01e-48a9-94f6-8302b68305a6",
   "metadata": {},
   "outputs": [],
   "source": [
    "df['Ship Mode'].unique()"
   ]
  },
  {
   "cell_type": "code",
   "execution_count": null,
   "id": "52984936-4d02-4f8e-ade7-75d803f8d30b",
   "metadata": {},
   "outputs": [],
   "source": [
    "#rename column names.. remove column space and replace with the underscore\n",
    "df.columns=df.columns.str.lower()\n",
    "df.columns=df.columns.str.replace(' ','_')"
   ]
  },
  {
   "cell_type": "code",
   "execution_count": null,
   "id": "a30f41d8-fba7-498a-9b1e-211c43bbcb21",
   "metadata": {},
   "outputs": [],
   "source": [
    "df.columns"
   ]
  },
  {
   "cell_type": "code",
   "execution_count": null,
   "id": "0e30eae9-5334-4fb7-aab5-e43292873400",
   "metadata": {},
   "outputs": [],
   "source": [
    "#derive new column name discount, sales proce and profit\n",
    "df['discount']=df['list_price']*df['discount_percent']*.01\n",
    "df['sales_price']=df['list_price']-df['discount']\n",
    "df['profit']=df['sales_price']-df['cost_price']"
   ]
  },
  {
   "cell_type": "code",
   "execution_count": null,
   "id": "9456688b-f29e-4006-92d9-eeb5aa880b51",
   "metadata": {},
   "outputs": [],
   "source": [
    "#converting the data type of order_date from object to datetime\n",
    "df['order_date']=pd.to_datetime(df['order_date'], format='%d-%m-%Y')"
   ]
  },
  {
   "cell_type": "code",
   "execution_count": null,
   "id": "54b5f0ac-0727-49cd-97c8-da182ad9bec1",
   "metadata": {},
   "outputs": [],
   "source": [
    "#drop cost price, list price and discount percent columns\n",
    "df.drop(columns=['cost_price','list_price','discount_percent'],inplace=True)"
   ]
  },
  {
   "cell_type": "code",
   "execution_count": null,
   "id": "2656078f-8dbe-48f0-949a-f46461b1ad6c",
   "metadata": {},
   "outputs": [],
   "source": [
    "pip install sqlalchemy"
   ]
  },
  {
   "cell_type": "code",
   "execution_count": null,
   "id": "f8e46cb6-b7a1-4bac-93fd-86829469b2a2",
   "metadata": {},
   "outputs": [],
   "source": [
    "pip install pyodbc"
   ]
  },
  {
   "cell_type": "code",
   "execution_count": null,
   "id": "2a0d3fb9-ef16-48b2-a930-1d86de464a4a",
   "metadata": {},
   "outputs": [],
   "source": [
    "import sqlalchemy as sal\n",
    "\n",
    "# Corrected connection string\n",
    "engine = sal.create_engine(\n",
    "    r\"mssql+pyodbc://localhost\\MSSQLSERVER01/master?driver=ODBC+DRIVER+17+FOR+SQL+SERVER&trusted_connection=yes\"\n",
    ")\n",
    "\n",
    "# Connect\n",
    "conn = engine.connect()\n",
    "print(\"Connection successful!\")"
   ]
  },
  {
   "cell_type": "code",
   "execution_count": null,
   "id": "bf22ea50-cf5c-439f-bf93-e73028c7f78b",
   "metadata": {},
   "outputs": [],
   "source": [
    "#Load data to sql \n",
    "df.to_sql('df_orders',con=conn,index=False,if_exists='append')"
   ]
  }
 ],
 "metadata": {
  "kernelspec": {
   "display_name": "Python 3 (ipykernel)",
   "language": "python",
   "name": "python3"
  },
  "language_info": {
   "codemirror_mode": {
    "name": "ipython",
    "version": 3
   },
   "file_extension": ".py",
   "mimetype": "text/x-python",
   "name": "python",
   "nbconvert_exporter": "python",
   "pygments_lexer": "ipython3",
   "version": "3.13.6"
  }
 },
 "nbformat": 4,
 "nbformat_minor": 5
}
